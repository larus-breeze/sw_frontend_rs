{
 "cells": [
  {
   "cell_type": "code",
   "execution_count": 3,
   "id": "1dcdcf29",
   "metadata": {},
   "outputs": [
    {
     "data": {
      "text/plain": [
       "array([288.15      , 281.65102237, 275.15408884, 268.65919845,\n",
       "       262.16635023, 255.67554322, 249.18677646, 242.70004898,\n",
       "       236.21535983, 229.73270804, 223.25209265])"
      ]
     },
     "execution_count": 3,
     "metadata": {},
     "output_type": "execute_result"
    }
   ],
   "source": [
    "import numpy as np\n",
    "from ambiance import Atmosphere\n",
    "\n",
    "h = np.linspace(0, 10000, 11)\n",
    "a = Atmosphere(h)\n",
    "a.temperature"
   ]
  },
  {
   "cell_type": "code",
   "execution_count": 7,
   "id": "664ddf0b",
   "metadata": {},
   "outputs": [
    {
     "data": {
      "application/vnd.jupyter.widget-view+json": {
       "model_id": "f8e2af669ccf43bdb356be7ee112e7b1"
      }
     },
     "metadata": {},
     "output_type": "display_data"
    }
   ],
   "source": [
    "import numpy\n",
    "import matplotlib.pyplot as plt\n",
    "from ambiance import Atmosphere\n",
    "from ipywidgets import interactive\n",
    "\n",
    "plt.rcParams['figure.figsize'] = [12, 12]\n",
    "\n",
    "def f(n):\n",
    "    h = numpy.linspace(0, 10000, 1000)\n",
    "    a = Atmosphere(h)\n",
    "    T = a.temperature\n",
    "\n",
    "    polynom = numpy.polyfit(h, T, n)\n",
    "    print(polynom)\n",
    "    curve_model = numpy.poly1d(polynom)\n",
    "    T_fit = curve_model(h)\n",
    "    T_error = 100*(T_fit - T) / T\n",
    "\n",
    "    fig, axs = plt.subplots(2, 1)\n",
    "    axs[0].set_title(\"Temperature = f(Altitude)\")\n",
    "    axs[0].set_ylabel(\"Temperature in [K]\")\n",
    "    axs[0].plot(h, T, h, T_fit)\n",
    "    axs[1].plot(h, T_error)\n",
    "    axs[1].set_ylabel(\"Error in [%]\")\n",
    "    axs[1].set_xlabel(\"Height im [m]\")\n",
    "    plt.show()\n",
    "\n",
    "\n",
    "interactive_plot= interactive(f,n=(1,2))\n",
    "interactive_plot"
   ]
  },
  {
   "cell_type": "code",
   "execution_count": 5,
   "id": "057d2ede",
   "metadata": {
    "scrolled": false
   },
   "outputs": [
    {
     "name": "stderr",
     "output_type": "stream",
     "text": [
      "Widget Javascript not detected.  It may not be installed or enabled properly. Reconnecting the current kernel may help.\n"
     ]
    },
    {
     "data": {
      "application/vnd.jupyter.widget-view+json": {
       "model_id": "c469cf4eea444205953c1bbe0db87171"
      }
     },
     "metadata": {},
     "output_type": "display_data"
    }
   ],
   "source": [
    "import numpy\n",
    "import matplotlib.pyplot as plt\n",
    "from ambiance import Atmosphere\n",
    "from ipywidgets import interactive\n",
    "\n",
    "plt.rcParams['figure.figsize'] = [12, 12]\n",
    "\n",
    "def f(n):\n",
    "    h = numpy.linspace(0, 10000, 1000)\n",
    "    a = Atmosphere(h)\n",
    "    p = a.pressure\n",
    "\n",
    "    polynom = numpy.polyfit(h, p, n)\n",
    "    print(polynom)\n",
    "    curve_model = numpy.poly1d(polynom)\n",
    "    p_fit = curve_model(h)\n",
    "    p_error = 100*(p_fit - p) / p\n",
    "\n",
    "    fig, axs = plt.subplots(2, 1)\n",
    "    axs[0].set_title(\"Pressure = f(Altitude)\")\n",
    "    axs[0].set_ylabel(\"Pressure in [Pa]\")\n",
    "    axs[0].plot(h, p, h, p_fit)\n",
    "    axs[1].set_ylabel(\"Error in [%]\")\n",
    "    axs[1].set_xlabel(\"Height im [m]\")\n",
    "    axs[1].plot(h, p_error)\n",
    "    plt.show()\n",
    "\n",
    "\n",
    "interactive_plot= interactive(f,n=(1,6))\n",
    "interactive_plot"
   ]
  },
  {
   "cell_type": "code",
   "execution_count": 8,
   "id": "200dbfcc",
   "metadata": {},
   "outputs": [
    {
     "data": {
      "application/vnd.jupyter.widget-view+json": {
       "model_id": "217e403a582b4e64bc56aa0092851a70"
      }
     },
     "metadata": {},
     "output_type": "display_data"
    }
   ],
   "source": [
    "import numpy\n",
    "import matplotlib.pyplot as plt\n",
    "from ambiance import Atmosphere\n",
    "from ipywidgets import interactive\n",
    "\n",
    "plt.rcParams['figure.figsize'] = [12, 12]\n",
    "\n",
    "def f(n):\n",
    "    h = numpy.linspace(0, 10000, 1000)\n",
    "    a = Atmosphere(h)\n",
    "    p = a.pressure\n",
    "\n",
    "    polynom = numpy.polyfit(p, h, n)\n",
    "    print(polynom)\n",
    "    curve_model = numpy.poly1d(polynom)\n",
    "    h_fit = curve_model(p)\n",
    "    h_error = h_fit - h\n",
    "\n",
    "    fig, axs = plt.subplots(2, 1)\n",
    "    axs[0].set_title(\"Altitude = f(Pressure)\")\n",
    "    axs[0].set_ylabel(\"Altitude in [m]\")\n",
    "    axs[0].plot(p, h, p, h_fit)\n",
    "    axs[1].set_ylabel(\"Error in [m]\")\n",
    "    axs[1].set_xlabel(\"Pressure in [Pa]\")\n",
    "    axs[1].plot(p, h_error)\n",
    "    plt.show()\n",
    "\n",
    "\n",
    "interactive_plot= interactive(f,n=(1,10))\n",
    "interactive_plot"
   ]
  },
  {
   "cell_type": "code",
   "execution_count": 10,
   "id": "26b69351",
   "metadata": {},
   "outputs": [
    {
     "data": {
      "application/vnd.jupyter.widget-view+json": {
       "model_id": "4d0afd0cf43742fbbbaa12bc84cf2e88",
       "version_major": 2,
       "version_minor": 0
      },
      "text/plain": [
       "interactive(children=(IntSlider(value=3, description='n', max=6, min=1), Output()), _dom_classes=('widget-inte…"
      ]
     },
     "metadata": {},
     "output_type": "display_data"
    }
   ],
   "source": [
    "import numpy\n",
    "import matplotlib.pyplot as plt\n",
    "from ambiance import Atmosphere\n",
    "from ipywidgets import interactive\n",
    "\n",
    "plt.rcParams['figure.figsize'] = [12, 12]\n",
    "\n",
    "def f(n):\n",
    "    h = numpy.linspace(0, 10000, 1000)\n",
    "    a = Atmosphere(h)\n",
    "    dens = a.density\n",
    "\n",
    "    polynom = numpy.polyfit(h, dens, n)\n",
    "    print(polynom)\n",
    "    curve_model = numpy.poly1d(polynom)\n",
    "    dens_fit = curve_model(h)\n",
    "    dens_error = 100*(dens_fit - dens) / dens\n",
    "\n",
    "    fig, axs = plt.subplots(2, 1)\n",
    "    axs[0].set_title(\"Density = f(Altitude)\")\n",
    "    axs[0].set_ylabel(\"Density in [kg/m³]\")\n",
    "    axs[0].plot(h, dens, h, dens_fit)\n",
    "    axs[1].set_ylabel(\"Error in [%]\")\n",
    "    axs[1].set_xlabel(\"Height im [m]\")\n",
    "    axs[1].plot(h, dens_error)\n",
    "    plt.show()\n",
    "\n",
    "\n",
    "interactive_plot= interactive(f,n=(1,6))\n",
    "interactive_plot"
   ]
  }
 ],
 "metadata": {
  "kernelspec": {
   "display_name": "Python 3 (ipykernel)",
   "language": "python",
   "name": "python3"
  },
  "language_info": {
   "codemirror_mode": {
    "name": "ipython",
    "version": 3
   },
   "file_extension": ".py",
   "mimetype": "text/x-python",
   "name": "python",
   "nbconvert_exporter": "python",
   "pygments_lexer": "ipython3",
   "version": "3.10.12"
  }
 },
 "nbformat": 4,
 "nbformat_minor": 5
}
